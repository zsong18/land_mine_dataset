{
 "cells": [
  {
   "cell_type": "code",
   "execution_count": 1,
   "id": "96ccd947-895f-458c-afe5-58d67d676505",
   "metadata": {},
   "outputs": [
    {
     "name": "stderr",
     "output_type": "stream",
     "text": [
      "── \u001b[1mAttaching packages\u001b[22m ─────────────────────────────────────── tidyverse 1.3.1 ──\n",
      "\n",
      "\u001b[32m✔\u001b[39m \u001b[34mggplot2\u001b[39m 3.3.6     \u001b[32m✔\u001b[39m \u001b[34mpurrr  \u001b[39m 0.3.4\n",
      "\u001b[32m✔\u001b[39m \u001b[34mtibble \u001b[39m 3.1.7     \u001b[32m✔\u001b[39m \u001b[34mdplyr  \u001b[39m 1.0.9\n",
      "\u001b[32m✔\u001b[39m \u001b[34mtidyr  \u001b[39m 1.2.0     \u001b[32m✔\u001b[39m \u001b[34mstringr\u001b[39m 1.4.0\n",
      "\u001b[32m✔\u001b[39m \u001b[34mreadr  \u001b[39m 2.1.2     \u001b[32m✔\u001b[39m \u001b[34mforcats\u001b[39m 0.5.1\n",
      "\n",
      "── \u001b[1mConflicts\u001b[22m ────────────────────────────────────────── tidyverse_conflicts() ──\n",
      "\u001b[31m✖\u001b[39m \u001b[34mdplyr\u001b[39m::\u001b[32mfilter()\u001b[39m masks \u001b[34mstats\u001b[39m::filter()\n",
      "\u001b[31m✖\u001b[39m \u001b[34mdplyr\u001b[39m::\u001b[32mlag()\u001b[39m    masks \u001b[34mstats\u001b[39m::lag()\n",
      "\n",
      "── \u001b[1mAttaching packages\u001b[22m ────────────────────────────────────── tidymodels 1.0.0 ──\n",
      "\n",
      "\u001b[32m✔\u001b[39m \u001b[34mbroom       \u001b[39m 1.0.0     \u001b[32m✔\u001b[39m \u001b[34mrsample     \u001b[39m 1.0.0\n",
      "\u001b[32m✔\u001b[39m \u001b[34mdials       \u001b[39m 1.0.0     \u001b[32m✔\u001b[39m \u001b[34mtune        \u001b[39m 1.0.0\n",
      "\u001b[32m✔\u001b[39m \u001b[34minfer       \u001b[39m 1.0.2     \u001b[32m✔\u001b[39m \u001b[34mworkflows   \u001b[39m 1.0.0\n",
      "\u001b[32m✔\u001b[39m \u001b[34mmodeldata   \u001b[39m 1.0.0     \u001b[32m✔\u001b[39m \u001b[34mworkflowsets\u001b[39m 1.0.0\n",
      "\u001b[32m✔\u001b[39m \u001b[34mparsnip     \u001b[39m 1.0.0     \u001b[32m✔\u001b[39m \u001b[34myardstick   \u001b[39m 1.0.0\n",
      "\u001b[32m✔\u001b[39m \u001b[34mrecipes     \u001b[39m 1.0.1     \n",
      "\n",
      "── \u001b[1mConflicts\u001b[22m ───────────────────────────────────────── tidymodels_conflicts() ──\n",
      "\u001b[31m✖\u001b[39m \u001b[34mscales\u001b[39m::\u001b[32mdiscard()\u001b[39m masks \u001b[34mpurrr\u001b[39m::discard()\n",
      "\u001b[31m✖\u001b[39m \u001b[34mdplyr\u001b[39m::\u001b[32mfilter()\u001b[39m   masks \u001b[34mstats\u001b[39m::filter()\n",
      "\u001b[31m✖\u001b[39m \u001b[34mrecipes\u001b[39m::\u001b[32mfixed()\u001b[39m  masks \u001b[34mstringr\u001b[39m::fixed()\n",
      "\u001b[31m✖\u001b[39m \u001b[34mdplyr\u001b[39m::\u001b[32mlag()\u001b[39m      masks \u001b[34mstats\u001b[39m::lag()\n",
      "\u001b[31m✖\u001b[39m \u001b[34myardstick\u001b[39m::\u001b[32mspec()\u001b[39m masks \u001b[34mreadr\u001b[39m::spec()\n",
      "\u001b[31m✖\u001b[39m \u001b[34mrecipes\u001b[39m::\u001b[32mstep()\u001b[39m   masks \u001b[34mstats\u001b[39m::step()\n",
      "\u001b[34m•\u001b[39m Use suppressPackageStartupMessages() to eliminate package startup messages\n",
      "\n"
     ]
    }
   ],
   "source": [
    "#Preliminary exploratory data analysis:\n",
    "library(tidyverse)\n",
    "library(tidymodels)\n",
    "options(repr.matrix.max.rows = 6)"
   ]
  },
  {
   "cell_type": "code",
   "execution_count": 2,
   "id": "6bd0f86e-cff2-44e9-b389-79b2458fa5fd",
   "metadata": {},
   "outputs": [
    {
     "name": "stderr",
     "output_type": "stream",
     "text": [
      "\u001b[1mRows: \u001b[22m\u001b[34m338\u001b[39m \u001b[1mColumns: \u001b[22m\u001b[34m4\u001b[39m\n",
      "\u001b[36m──\u001b[39m \u001b[1mColumn specification\u001b[22m \u001b[36m────────────────────────────────────────────────────────\u001b[39m\n",
      "\u001b[1mDelimiter:\u001b[22m \",\"\n",
      "\u001b[32mdbl\u001b[39m (4): V, H, S, M\n",
      "\n",
      "\u001b[36mℹ\u001b[39m Use `spec()` to retrieve the full column specification for this data.\n",
      "\u001b[36mℹ\u001b[39m Specify the column types or set `show_col_types = FALSE` to quiet this message.\n"
     ]
    },
    {
     "data": {
      "text/html": [
       "<table class=\"dataframe\">\n",
       "<caption>A spec_tbl_df: 338 × 4</caption>\n",
       "<thead>\n",
       "\t<tr><th scope=col>V</th><th scope=col>H</th><th scope=col>S</th><th scope=col>M</th></tr>\n",
       "\t<tr><th scope=col>&lt;dbl&gt;</th><th scope=col>&lt;dbl&gt;</th><th scope=col>&lt;dbl&gt;</th><th scope=col>&lt;dbl&gt;</th></tr>\n",
       "</thead>\n",
       "<tbody>\n",
       "\t<tr><td>0.3381568</td><td>0.0000000</td><td>1</td><td>1</td></tr>\n",
       "\t<tr><td>0.3202413</td><td>0.1818182</td><td>1</td><td>1</td></tr>\n",
       "\t<tr><td>0.2870087</td><td>0.2727273</td><td>1</td><td>1</td></tr>\n",
       "\t<tr><td>⋮</td><td>⋮</td><td>⋮</td><td>⋮</td></tr>\n",
       "\t<tr><td>0.3534739</td><td>0.4545455</td><td>6</td><td>5</td></tr>\n",
       "\t<tr><td>0.3625373</td><td>0.7272727</td><td>6</td><td>5</td></tr>\n",
       "\t<tr><td>0.3141990</td><td>1.0000000</td><td>6</td><td>5</td></tr>\n",
       "</tbody>\n",
       "</table>\n"
      ],
      "text/latex": [
       "A spec\\_tbl\\_df: 338 × 4\n",
       "\\begin{tabular}{llll}\n",
       " V & H & S & M\\\\\n",
       " <dbl> & <dbl> & <dbl> & <dbl>\\\\\n",
       "\\hline\n",
       "\t 0.3381568 & 0.0000000 & 1 & 1\\\\\n",
       "\t 0.3202413 & 0.1818182 & 1 & 1\\\\\n",
       "\t 0.2870087 & 0.2727273 & 1 & 1\\\\\n",
       "\t ⋮ & ⋮ & ⋮ & ⋮\\\\\n",
       "\t 0.3534739 & 0.4545455 & 6 & 5\\\\\n",
       "\t 0.3625373 & 0.7272727 & 6 & 5\\\\\n",
       "\t 0.3141990 & 1.0000000 & 6 & 5\\\\\n",
       "\\end{tabular}\n"
      ],
      "text/markdown": [
       "\n",
       "A spec_tbl_df: 338 × 4\n",
       "\n",
       "| V &lt;dbl&gt; | H &lt;dbl&gt; | S &lt;dbl&gt; | M &lt;dbl&gt; |\n",
       "|---|---|---|---|\n",
       "| 0.3381568 | 0.0000000 | 1 | 1 |\n",
       "| 0.3202413 | 0.1818182 | 1 | 1 |\n",
       "| 0.2870087 | 0.2727273 | 1 | 1 |\n",
       "| ⋮ | ⋮ | ⋮ | ⋮ |\n",
       "| 0.3534739 | 0.4545455 | 6 | 5 |\n",
       "| 0.3625373 | 0.7272727 | 6 | 5 |\n",
       "| 0.3141990 | 1.0000000 | 6 | 5 |\n",
       "\n"
      ],
      "text/plain": [
       "    V         H         S M\n",
       "1   0.3381568 0.0000000 1 1\n",
       "2   0.3202413 0.1818182 1 1\n",
       "3   0.2870087 0.2727273 1 1\n",
       "⋮   ⋮         ⋮         ⋮ ⋮\n",
       "336 0.3534739 0.4545455 6 5\n",
       "337 0.3625373 0.7272727 6 5\n",
       "338 0.3141990 1.0000000 6 5"
      ]
     },
     "metadata": {},
     "output_type": "display_data"
    }
   ],
   "source": [
    "#read the data\n",
    "land_mine<-read_csv(\"https://raw.githubusercontent.com/zsong18/land_mine_dataset/main/Land%20mines.csv\")\n",
    "land_mine"
   ]
  },
  {
   "cell_type": "code",
   "execution_count": 3,
   "id": "45b9e49e-ea6a-4c3c-8cef-b6fa5df1cb3a",
   "metadata": {},
   "outputs": [
    {
     "data": {
      "text/html": [
       "<table class=\"dataframe\">\n",
       "<caption>A spec_tbl_df: 338 × 4</caption>\n",
       "<thead>\n",
       "\t<tr><th scope=col>voltage</th><th scope=col>height</th><th scope=col>soil_type</th><th scope=col>mine_type</th></tr>\n",
       "\t<tr><th scope=col>&lt;dbl&gt;</th><th scope=col>&lt;dbl&gt;</th><th scope=col>&lt;dbl&gt;</th><th scope=col>&lt;dbl&gt;</th></tr>\n",
       "</thead>\n",
       "<tbody>\n",
       "\t<tr><td>0.3381568</td><td>0.0000000</td><td>1</td><td>1</td></tr>\n",
       "\t<tr><td>0.3202413</td><td>0.1818182</td><td>1</td><td>1</td></tr>\n",
       "\t<tr><td>0.2870087</td><td>0.2727273</td><td>1</td><td>1</td></tr>\n",
       "\t<tr><td>⋮</td><td>⋮</td><td>⋮</td><td>⋮</td></tr>\n",
       "\t<tr><td>0.3534739</td><td>0.4545455</td><td>6</td><td>5</td></tr>\n",
       "\t<tr><td>0.3625373</td><td>0.7272727</td><td>6</td><td>5</td></tr>\n",
       "\t<tr><td>0.3141990</td><td>1.0000000</td><td>6</td><td>5</td></tr>\n",
       "</tbody>\n",
       "</table>\n"
      ],
      "text/latex": [
       "A spec\\_tbl\\_df: 338 × 4\n",
       "\\begin{tabular}{llll}\n",
       " voltage & height & soil\\_type & mine\\_type\\\\\n",
       " <dbl> & <dbl> & <dbl> & <dbl>\\\\\n",
       "\\hline\n",
       "\t 0.3381568 & 0.0000000 & 1 & 1\\\\\n",
       "\t 0.3202413 & 0.1818182 & 1 & 1\\\\\n",
       "\t 0.2870087 & 0.2727273 & 1 & 1\\\\\n",
       "\t ⋮ & ⋮ & ⋮ & ⋮\\\\\n",
       "\t 0.3534739 & 0.4545455 & 6 & 5\\\\\n",
       "\t 0.3625373 & 0.7272727 & 6 & 5\\\\\n",
       "\t 0.3141990 & 1.0000000 & 6 & 5\\\\\n",
       "\\end{tabular}\n"
      ],
      "text/markdown": [
       "\n",
       "A spec_tbl_df: 338 × 4\n",
       "\n",
       "| voltage &lt;dbl&gt; | height &lt;dbl&gt; | soil_type &lt;dbl&gt; | mine_type &lt;dbl&gt; |\n",
       "|---|---|---|---|\n",
       "| 0.3381568 | 0.0000000 | 1 | 1 |\n",
       "| 0.3202413 | 0.1818182 | 1 | 1 |\n",
       "| 0.2870087 | 0.2727273 | 1 | 1 |\n",
       "| ⋮ | ⋮ | ⋮ | ⋮ |\n",
       "| 0.3534739 | 0.4545455 | 6 | 5 |\n",
       "| 0.3625373 | 0.7272727 | 6 | 5 |\n",
       "| 0.3141990 | 1.0000000 | 6 | 5 |\n",
       "\n"
      ],
      "text/plain": [
       "    voltage   height    soil_type mine_type\n",
       "1   0.3381568 0.0000000 1         1        \n",
       "2   0.3202413 0.1818182 1         1        \n",
       "3   0.2870087 0.2727273 1         1        \n",
       "⋮   ⋮         ⋮         ⋮         ⋮        \n",
       "336 0.3534739 0.4545455 6         5        \n",
       "337 0.3625373 0.7272727 6         5        \n",
       "338 0.3141990 1.0000000 6         5        "
      ]
     },
     "metadata": {},
     "output_type": "display_data"
    }
   ],
   "source": [
    "# wrangling the data (1)\n",
    "# complete column name\n",
    "new_names<-c(\"voltage\",\"height\",\"soil_type\",\"mine_type\")\n",
    "colnames(land_mine)<-new_names\n",
    "land_mine"
   ]
  },
  {
   "cell_type": "code",
   "execution_count": 4,
   "id": "6032c781-6855-405e-b649-c8ddd469005a",
   "metadata": {},
   "outputs": [
    {
     "data": {
      "text/html": [
       "<table class=\"dataframe\">\n",
       "<caption>A tibble: 338 × 4</caption>\n",
       "<thead>\n",
       "\t<tr><th scope=col>voltage</th><th scope=col>height</th><th scope=col>soil_type</th><th scope=col>mine_type</th></tr>\n",
       "\t<tr><th scope=col>&lt;dbl&gt;</th><th scope=col>&lt;dbl&gt;</th><th scope=col>&lt;dbl&gt;</th><th scope=col>&lt;fct&gt;</th></tr>\n",
       "</thead>\n",
       "<tbody>\n",
       "\t<tr><td>0.3381568</td><td>0.0000000</td><td>1</td><td>1</td></tr>\n",
       "\t<tr><td>0.3202413</td><td>0.1818182</td><td>1</td><td>1</td></tr>\n",
       "\t<tr><td>0.2870087</td><td>0.2727273</td><td>1</td><td>1</td></tr>\n",
       "\t<tr><td>⋮</td><td>⋮</td><td>⋮</td><td>⋮</td></tr>\n",
       "\t<tr><td>0.3534739</td><td>0.4545455</td><td>6</td><td>5</td></tr>\n",
       "\t<tr><td>0.3625373</td><td>0.7272727</td><td>6</td><td>5</td></tr>\n",
       "\t<tr><td>0.3141990</td><td>1.0000000</td><td>6</td><td>5</td></tr>\n",
       "</tbody>\n",
       "</table>\n"
      ],
      "text/latex": [
       "A tibble: 338 × 4\n",
       "\\begin{tabular}{llll}\n",
       " voltage & height & soil\\_type & mine\\_type\\\\\n",
       " <dbl> & <dbl> & <dbl> & <fct>\\\\\n",
       "\\hline\n",
       "\t 0.3381568 & 0.0000000 & 1 & 1\\\\\n",
       "\t 0.3202413 & 0.1818182 & 1 & 1\\\\\n",
       "\t 0.2870087 & 0.2727273 & 1 & 1\\\\\n",
       "\t ⋮ & ⋮ & ⋮ & ⋮\\\\\n",
       "\t 0.3534739 & 0.4545455 & 6 & 5\\\\\n",
       "\t 0.3625373 & 0.7272727 & 6 & 5\\\\\n",
       "\t 0.3141990 & 1.0000000 & 6 & 5\\\\\n",
       "\\end{tabular}\n"
      ],
      "text/markdown": [
       "\n",
       "A tibble: 338 × 4\n",
       "\n",
       "| voltage &lt;dbl&gt; | height &lt;dbl&gt; | soil_type &lt;dbl&gt; | mine_type &lt;fct&gt; |\n",
       "|---|---|---|---|\n",
       "| 0.3381568 | 0.0000000 | 1 | 1 |\n",
       "| 0.3202413 | 0.1818182 | 1 | 1 |\n",
       "| 0.2870087 | 0.2727273 | 1 | 1 |\n",
       "| ⋮ | ⋮ | ⋮ | ⋮ |\n",
       "| 0.3534739 | 0.4545455 | 6 | 5 |\n",
       "| 0.3625373 | 0.7272727 | 6 | 5 |\n",
       "| 0.3141990 | 1.0000000 | 6 | 5 |\n",
       "\n"
      ],
      "text/plain": [
       "    voltage   height    soil_type mine_type\n",
       "1   0.3381568 0.0000000 1         1        \n",
       "2   0.3202413 0.1818182 1         1        \n",
       "3   0.2870087 0.2727273 1         1        \n",
       "⋮   ⋮         ⋮         ⋮         ⋮        \n",
       "336 0.3534739 0.4545455 6         5        \n",
       "337 0.3625373 0.7272727 6         5        \n",
       "338 0.3141990 1.0000000 6         5        "
      ]
     },
     "metadata": {},
     "output_type": "display_data"
    }
   ],
   "source": [
    "# wrangling the data (2)\n",
    "# change target variable mine_type into factor as it is category variable\n",
    "land_mine <- land_mine|>\n",
    "  mutate(mine_type = as_factor(mine_type))\n",
    "land_mine"
   ]
  },
  {
   "cell_type": "code",
   "execution_count": 5,
   "id": "af49548a-818c-4339-b362-a8833eaa612b",
   "metadata": {},
   "outputs": [
    {
     "data": {
      "text/html": [
       "<table class=\"dataframe\">\n",
       "<caption>A tibble: 338 × 3</caption>\n",
       "<thead>\n",
       "\t<tr><th scope=col>voltage</th><th scope=col>height</th><th scope=col>mine_type</th></tr>\n",
       "\t<tr><th scope=col>&lt;dbl&gt;</th><th scope=col>&lt;dbl&gt;</th><th scope=col>&lt;fct&gt;</th></tr>\n",
       "</thead>\n",
       "<tbody>\n",
       "\t<tr><td>0.3381568</td><td>0.0000000</td><td>1</td></tr>\n",
       "\t<tr><td>0.3202413</td><td>0.1818182</td><td>1</td></tr>\n",
       "\t<tr><td>0.2870087</td><td>0.2727273</td><td>1</td></tr>\n",
       "\t<tr><td>⋮</td><td>⋮</td><td>⋮</td></tr>\n",
       "\t<tr><td>0.3534739</td><td>0.4545455</td><td>5</td></tr>\n",
       "\t<tr><td>0.3625373</td><td>0.7272727</td><td>5</td></tr>\n",
       "\t<tr><td>0.3141990</td><td>1.0000000</td><td>5</td></tr>\n",
       "</tbody>\n",
       "</table>\n"
      ],
      "text/latex": [
       "A tibble: 338 × 3\n",
       "\\begin{tabular}{lll}\n",
       " voltage & height & mine\\_type\\\\\n",
       " <dbl> & <dbl> & <fct>\\\\\n",
       "\\hline\n",
       "\t 0.3381568 & 0.0000000 & 1\\\\\n",
       "\t 0.3202413 & 0.1818182 & 1\\\\\n",
       "\t 0.2870087 & 0.2727273 & 1\\\\\n",
       "\t ⋮ & ⋮ & ⋮\\\\\n",
       "\t 0.3534739 & 0.4545455 & 5\\\\\n",
       "\t 0.3625373 & 0.7272727 & 5\\\\\n",
       "\t 0.3141990 & 1.0000000 & 5\\\\\n",
       "\\end{tabular}\n"
      ],
      "text/markdown": [
       "\n",
       "A tibble: 338 × 3\n",
       "\n",
       "| voltage &lt;dbl&gt; | height &lt;dbl&gt; | mine_type &lt;fct&gt; |\n",
       "|---|---|---|\n",
       "| 0.3381568 | 0.0000000 | 1 |\n",
       "| 0.3202413 | 0.1818182 | 1 |\n",
       "| 0.2870087 | 0.2727273 | 1 |\n",
       "| ⋮ | ⋮ | ⋮ |\n",
       "| 0.3534739 | 0.4545455 | 5 |\n",
       "| 0.3625373 | 0.7272727 | 5 |\n",
       "| 0.3141990 | 1.0000000 | 5 |\n",
       "\n"
      ],
      "text/plain": [
       "    voltage   height    mine_type\n",
       "1   0.3381568 0.0000000 1        \n",
       "2   0.3202413 0.1818182 1        \n",
       "3   0.2870087 0.2727273 1        \n",
       "⋮   ⋮         ⋮         ⋮        \n",
       "336 0.3534739 0.4545455 5        \n",
       "337 0.3625373 0.7272727 5        \n",
       "338 0.3141990 1.0000000 5        "
      ]
     },
     "metadata": {},
     "output_type": "display_data"
    }
   ],
   "source": [
    "# wrangling the data (3)\n",
    "# select voltage, height, mine_type column \n",
    "land_mine<-select(land_mine,voltage,height,mine_type) \n",
    "land_mine"
   ]
  },
  {
   "cell_type": "code",
   "execution_count": 6,
   "id": "b7388549-2e42-4773-8d4c-ed64367b3c21",
   "metadata": {},
   "outputs": [
    {
     "data": {
      "text/html": [
       "<table class=\"dataframe\">\n",
       "<caption>A tibble: 251 × 3</caption>\n",
       "<thead>\n",
       "\t<tr><th scope=col>voltage</th><th scope=col>height</th><th scope=col>mine_type</th></tr>\n",
       "\t<tr><th scope=col>&lt;dbl&gt;</th><th scope=col>&lt;dbl&gt;</th><th scope=col>&lt;fct&gt;</th></tr>\n",
       "</thead>\n",
       "<tbody>\n",
       "\t<tr><td>0.3381568</td><td>0.0000000</td><td>1</td></tr>\n",
       "\t<tr><td>0.3202413</td><td>0.1818182</td><td>1</td></tr>\n",
       "\t<tr><td>0.2409665</td><td>0.7272727</td><td>1</td></tr>\n",
       "\t<tr><td>⋮</td><td>⋮</td><td>⋮</td></tr>\n",
       "\t<tr><td>0.3534739</td><td>0.4545455</td><td>5</td></tr>\n",
       "\t<tr><td>0.3625373</td><td>0.7272727</td><td>5</td></tr>\n",
       "\t<tr><td>0.3141990</td><td>1.0000000</td><td>5</td></tr>\n",
       "</tbody>\n",
       "</table>\n"
      ],
      "text/latex": [
       "A tibble: 251 × 3\n",
       "\\begin{tabular}{lll}\n",
       " voltage & height & mine\\_type\\\\\n",
       " <dbl> & <dbl> & <fct>\\\\\n",
       "\\hline\n",
       "\t 0.3381568 & 0.0000000 & 1\\\\\n",
       "\t 0.3202413 & 0.1818182 & 1\\\\\n",
       "\t 0.2409665 & 0.7272727 & 1\\\\\n",
       "\t ⋮ & ⋮ & ⋮\\\\\n",
       "\t 0.3534739 & 0.4545455 & 5\\\\\n",
       "\t 0.3625373 & 0.7272727 & 5\\\\\n",
       "\t 0.3141990 & 1.0000000 & 5\\\\\n",
       "\\end{tabular}\n"
      ],
      "text/markdown": [
       "\n",
       "A tibble: 251 × 3\n",
       "\n",
       "| voltage &lt;dbl&gt; | height &lt;dbl&gt; | mine_type &lt;fct&gt; |\n",
       "|---|---|---|\n",
       "| 0.3381568 | 0.0000000 | 1 |\n",
       "| 0.3202413 | 0.1818182 | 1 |\n",
       "| 0.2409665 | 0.7272727 | 1 |\n",
       "| ⋮ | ⋮ | ⋮ |\n",
       "| 0.3534739 | 0.4545455 | 5 |\n",
       "| 0.3625373 | 0.7272727 | 5 |\n",
       "| 0.3141990 | 1.0000000 | 5 |\n",
       "\n"
      ],
      "text/plain": [
       "    voltage   height    mine_type\n",
       "1   0.3381568 0.0000000 1        \n",
       "2   0.3202413 0.1818182 1        \n",
       "3   0.2409665 0.7272727 1        \n",
       "⋮   ⋮         ⋮         ⋮        \n",
       "249 0.3534739 0.4545455 5        \n",
       "250 0.3625373 0.7272727 5        \n",
       "251 0.3141990 1.0000000 5        "
      ]
     },
     "metadata": {},
     "output_type": "display_data"
    },
    {
     "data": {
      "text/html": [
       "<table class=\"dataframe\">\n",
       "<caption>A tibble: 87 × 3</caption>\n",
       "<thead>\n",
       "\t<tr><th scope=col>voltage</th><th scope=col>height</th><th scope=col>mine_type</th></tr>\n",
       "\t<tr><th scope=col>&lt;dbl&gt;</th><th scope=col>&lt;dbl&gt;</th><th scope=col>&lt;fct&gt;</th></tr>\n",
       "</thead>\n",
       "<tbody>\n",
       "\t<tr><td>0.2870087</td><td>0.2727273</td><td>1</td></tr>\n",
       "\t<tr><td>0.2562836</td><td>0.4545455</td><td>1</td></tr>\n",
       "\t<tr><td>0.2628396</td><td>0.5454545</td><td>1</td></tr>\n",
       "\t<tr><td>⋮</td><td>⋮</td><td>⋮</td></tr>\n",
       "\t<tr><td>0.3781568</td><td>0.5454545</td><td>5</td></tr>\n",
       "\t<tr><td>0.3474316</td><td>0.6363636</td><td>5</td></tr>\n",
       "\t<tr><td>0.4441082</td><td>0.1818182</td><td>5</td></tr>\n",
       "</tbody>\n",
       "</table>\n"
      ],
      "text/latex": [
       "A tibble: 87 × 3\n",
       "\\begin{tabular}{lll}\n",
       " voltage & height & mine\\_type\\\\\n",
       " <dbl> & <dbl> & <fct>\\\\\n",
       "\\hline\n",
       "\t 0.2870087 & 0.2727273 & 1\\\\\n",
       "\t 0.2562836 & 0.4545455 & 1\\\\\n",
       "\t 0.2628396 & 0.5454545 & 1\\\\\n",
       "\t ⋮ & ⋮ & ⋮\\\\\n",
       "\t 0.3781568 & 0.5454545 & 5\\\\\n",
       "\t 0.3474316 & 0.6363636 & 5\\\\\n",
       "\t 0.4441082 & 0.1818182 & 5\\\\\n",
       "\\end{tabular}\n"
      ],
      "text/markdown": [
       "\n",
       "A tibble: 87 × 3\n",
       "\n",
       "| voltage &lt;dbl&gt; | height &lt;dbl&gt; | mine_type &lt;fct&gt; |\n",
       "|---|---|---|\n",
       "| 0.2870087 | 0.2727273 | 1 |\n",
       "| 0.2562836 | 0.4545455 | 1 |\n",
       "| 0.2628396 | 0.5454545 | 1 |\n",
       "| ⋮ | ⋮ | ⋮ |\n",
       "| 0.3781568 | 0.5454545 | 5 |\n",
       "| 0.3474316 | 0.6363636 | 5 |\n",
       "| 0.4441082 | 0.1818182 | 5 |\n",
       "\n"
      ],
      "text/plain": [
       "   voltage   height    mine_type\n",
       "1  0.2870087 0.2727273 1        \n",
       "2  0.2562836 0.4545455 1        \n",
       "3  0.2628396 0.5454545 1        \n",
       "⋮  ⋮         ⋮         ⋮        \n",
       "85 0.3781568 0.5454545 5        \n",
       "86 0.3474316 0.6363636 5        \n",
       "87 0.4441082 0.1818182 5        "
      ]
     },
     "metadata": {},
     "output_type": "display_data"
    }
   ],
   "source": [
    "# set the seed \n",
    "# spliting the data into train/test\n",
    "set.seed(1)\n",
    "land_mine_split<-initial_split(land_mine,prop=0.75,strata=mine_type)\n",
    "land_mine_train<-training(land_mine_split)\n",
    "land_mine_train\n",
    "land_mine_test<-testing(land_mine_split)\n",
    "land_mine_test"
   ]
  },
  {
   "cell_type": "code",
   "execution_count": 7,
   "id": "5264915c-53aa-4ef0-b6e6-efa87f49f034",
   "metadata": {},
   "outputs": [
    {
     "data": {
      "text/plain": [
       "Recipe\n",
       "\n",
       "Inputs:\n",
       "\n",
       "      role #variables\n",
       "   outcome          1\n",
       " predictor          2\n",
       "\n",
       "Operations:\n",
       "\n",
       "Scaling for all_predictors()\n",
       "Centering for all_predictors()"
      ]
     },
     "metadata": {},
     "output_type": "display_data"
    }
   ],
   "source": [
    "# create the recipe\n",
    "set.seed(1)\n",
    "land_mine_recipe<-recipe(mine_type~voltage+height,data=land_mine_train)|>\n",
    "                   step_scale(all_predictors())|>\n",
    "                   step_center(all_predictors())\n",
    "land_mine_recipe"
   ]
  },
  {
   "cell_type": "code",
   "execution_count": 8,
   "id": "e6a6c89d-dd2e-46cc-afde-c1e7573b2aad",
   "metadata": {},
   "outputs": [
    {
     "data": {
      "text/plain": [
       "K-Nearest Neighbor Model Specification (classification)\n",
       "\n",
       "Main Arguments:\n",
       "  neighbors = tune()\n",
       "  weight_func = rectangular\n",
       "\n",
       "Computational engine: kknn \n"
      ]
     },
     "metadata": {},
     "output_type": "display_data"
    }
   ],
   "source": [
    "# create the model specification\n",
    "set.seed(1)\n",
    "knn_spec<-nearest_neighbor(weight_func=\"rectangular\",neighbors=tune()) |>\n",
    "  set_engine(\"kknn\") |>\n",
    "  set_mode(\"classification\")\n",
    "knn_spec"
   ]
  },
  {
   "cell_type": "code",
   "execution_count": 12,
   "id": "512223ba-b9a1-4b06-8782-23670d866764",
   "metadata": {},
   "outputs": [
    {
     "data": {
      "text/html": [
       "<table class=\"dataframe\">\n",
       "<caption>A tibble: 40 × 7</caption>\n",
       "<thead>\n",
       "\t<tr><th scope=col>neighbors</th><th scope=col>.metric</th><th scope=col>.estimator</th><th scope=col>mean</th><th scope=col>n</th><th scope=col>std_err</th><th scope=col>.config</th></tr>\n",
       "\t<tr><th scope=col>&lt;dbl&gt;</th><th scope=col>&lt;chr&gt;</th><th scope=col>&lt;chr&gt;</th><th scope=col>&lt;dbl&gt;</th><th scope=col>&lt;int&gt;</th><th scope=col>&lt;dbl&gt;</th><th scope=col>&lt;chr&gt;</th></tr>\n",
       "</thead>\n",
       "<tbody>\n",
       "\t<tr><td>1</td><td>accuracy</td><td>multiclass</td><td>0.4398120</td><td>5</td><td>0.02646056</td><td>Preprocessor1_Model01</td></tr>\n",
       "\t<tr><td>1</td><td>roc_auc </td><td>hand_till </td><td>0.6433586</td><td>5</td><td>0.01645443</td><td>Preprocessor1_Model01</td></tr>\n",
       "\t<tr><td>6</td><td>accuracy</td><td>multiclass</td><td>0.4397983</td><td>5</td><td>0.02627058</td><td>Preprocessor1_Model02</td></tr>\n",
       "\t<tr><td>⋮</td><td>⋮</td><td>⋮</td><td>⋮</td><td>⋮</td><td>⋮</td><td>⋮</td></tr>\n",
       "\t<tr><td>91</td><td>roc_auc </td><td>hand_till </td><td>0.6763584</td><td>5</td><td>0.02545807</td><td>Preprocessor1_Model19</td></tr>\n",
       "\t<tr><td>96</td><td>accuracy</td><td>multiclass</td><td>0.3496043</td><td>5</td><td>0.04647619</td><td>Preprocessor1_Model20</td></tr>\n",
       "\t<tr><td>96</td><td>roc_auc </td><td>hand_till </td><td>0.6597358</td><td>5</td><td>0.02531704</td><td>Preprocessor1_Model20</td></tr>\n",
       "</tbody>\n",
       "</table>\n"
      ],
      "text/latex": [
       "A tibble: 40 × 7\n",
       "\\begin{tabular}{lllllll}\n",
       " neighbors & .metric & .estimator & mean & n & std\\_err & .config\\\\\n",
       " <dbl> & <chr> & <chr> & <dbl> & <int> & <dbl> & <chr>\\\\\n",
       "\\hline\n",
       "\t 1 & accuracy & multiclass & 0.4398120 & 5 & 0.02646056 & Preprocessor1\\_Model01\\\\\n",
       "\t 1 & roc\\_auc  & hand\\_till  & 0.6433586 & 5 & 0.01645443 & Preprocessor1\\_Model01\\\\\n",
       "\t 6 & accuracy & multiclass & 0.4397983 & 5 & 0.02627058 & Preprocessor1\\_Model02\\\\\n",
       "\t ⋮ & ⋮ & ⋮ & ⋮ & ⋮ & ⋮ & ⋮\\\\\n",
       "\t 91 & roc\\_auc  & hand\\_till  & 0.6763584 & 5 & 0.02545807 & Preprocessor1\\_Model19\\\\\n",
       "\t 96 & accuracy & multiclass & 0.3496043 & 5 & 0.04647619 & Preprocessor1\\_Model20\\\\\n",
       "\t 96 & roc\\_auc  & hand\\_till  & 0.6597358 & 5 & 0.02531704 & Preprocessor1\\_Model20\\\\\n",
       "\\end{tabular}\n"
      ],
      "text/markdown": [
       "\n",
       "A tibble: 40 × 7\n",
       "\n",
       "| neighbors &lt;dbl&gt; | .metric &lt;chr&gt; | .estimator &lt;chr&gt; | mean &lt;dbl&gt; | n &lt;int&gt; | std_err &lt;dbl&gt; | .config &lt;chr&gt; |\n",
       "|---|---|---|---|---|---|---|\n",
       "| 1 | accuracy | multiclass | 0.4398120 | 5 | 0.02646056 | Preprocessor1_Model01 |\n",
       "| 1 | roc_auc  | hand_till  | 0.6433586 | 5 | 0.01645443 | Preprocessor1_Model01 |\n",
       "| 6 | accuracy | multiclass | 0.4397983 | 5 | 0.02627058 | Preprocessor1_Model02 |\n",
       "| ⋮ | ⋮ | ⋮ | ⋮ | ⋮ | ⋮ | ⋮ |\n",
       "| 91 | roc_auc  | hand_till  | 0.6763584 | 5 | 0.02545807 | Preprocessor1_Model19 |\n",
       "| 96 | accuracy | multiclass | 0.3496043 | 5 | 0.04647619 | Preprocessor1_Model20 |\n",
       "| 96 | roc_auc  | hand_till  | 0.6597358 | 5 | 0.02531704 | Preprocessor1_Model20 |\n",
       "\n"
      ],
      "text/plain": [
       "   neighbors .metric  .estimator mean      n std_err    .config              \n",
       "1  1         accuracy multiclass 0.4398120 5 0.02646056 Preprocessor1_Model01\n",
       "2  1         roc_auc  hand_till  0.6433586 5 0.01645443 Preprocessor1_Model01\n",
       "3  6         accuracy multiclass 0.4397983 5 0.02627058 Preprocessor1_Model02\n",
       "⋮  ⋮         ⋮        ⋮          ⋮         ⋮ ⋮          ⋮                    \n",
       "38 91        roc_auc  hand_till  0.6763584 5 0.02545807 Preprocessor1_Model19\n",
       "39 96        accuracy multiclass 0.3496043 5 0.04647619 Preprocessor1_Model20\n",
       "40 96        roc_auc  hand_till  0.6597358 5 0.02531704 Preprocessor1_Model20"
      ]
     },
     "metadata": {},
     "output_type": "display_data"
    }
   ],
   "source": [
    "# choose the optimal value of k\n",
    "# 5-fold cross-validation\n",
    "# create a workflow to fit the knn model\n",
    "set.seed(1)\n",
    "ks<-tibble(neighbors=seq(from=1,to=100,by=5))\n",
    "land_mine_vfold<-vfold_cv(land_mine_train,v=5,strata=mine_type)\n",
    "\n",
    "knn_results<-workflow()|>\n",
    "  add_recipe(land_mine_recipe)|>\n",
    "  add_model(knn_spec)|>\n",
    "  tune_grid(resamples=land_mine_vfold,grid=ks) |>\n",
    "  collect_metrics()\n",
    "knn_results"
   ]
  },
  {
   "cell_type": "code",
   "execution_count": null,
   "id": "0671686f-d74b-421f-b683-69e66bf3b98c",
   "metadata": {},
   "outputs": [],
   "source": [
    "accuracies<-knn_results|>\n",
    "        filter(.metric == \"accuracy\")|>\n",
    "        arrange(desc(mean)) \n",
    "\n",
    "accuracies"
   ]
  },
  {
   "cell_type": "code",
   "execution_count": null,
   "id": "7de05735-0d3e-4493-98a0-9689b868c153",
   "metadata": {},
   "outputs": [],
   "source": []
  }
 ],
 "metadata": {
  "kernelspec": {
   "display_name": "R",
   "language": "R",
   "name": "ir"
  },
  "language_info": {
   "codemirror_mode": "r",
   "file_extension": ".r",
   "mimetype": "text/x-r-source",
   "name": "R",
   "pygments_lexer": "r",
   "version": "4.1.3"
  }
 },
 "nbformat": 4,
 "nbformat_minor": 5
}
